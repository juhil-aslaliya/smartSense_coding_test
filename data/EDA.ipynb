{
 "cells": [
  {
   "cell_type": "code",
   "execution_count": 1,
   "id": "bca45624",
   "metadata": {},
   "outputs": [],
   "source": [
    "import pandas as pd\n",
    "import numpy as np\n",
    "import matplotlib.pyplot as plt"
   ]
  },
  {
   "cell_type": "code",
   "execution_count": 2,
   "id": "da945e2f",
   "metadata": {},
   "outputs": [
    {
     "data": {
      "text/html": [
       "<div>\n",
       "<style scoped>\n",
       "    .dataframe tbody tr th:only-of-type {\n",
       "        vertical-align: middle;\n",
       "    }\n",
       "\n",
       "    .dataframe tbody tr th {\n",
       "        vertical-align: top;\n",
       "    }\n",
       "\n",
       "    .dataframe thead th {\n",
       "        text-align: right;\n",
       "    }\n",
       "</style>\n",
       "<table border=\"1\" class=\"dataframe\">\n",
       "  <thead>\n",
       "    <tr style=\"text-align: right;\">\n",
       "      <th></th>\n",
       "      <th>Car name</th>\n",
       "      <th>Length</th>\n",
       "      <th>Width</th>\n",
       "      <th>Height</th>\n",
       "      <th>Wheelbase</th>\n",
       "      <th>SUV</th>\n",
       "      <th>MUV</th>\n",
       "      <th>Sedan</th>\n",
       "      <th>Hatchback</th>\n",
       "    </tr>\n",
       "  </thead>\n",
       "  <tbody>\n",
       "    <tr>\n",
       "      <th>0</th>\n",
       "      <td>Aura</td>\n",
       "      <td>3995</td>\n",
       "      <td>1680</td>\n",
       "      <td>1520</td>\n",
       "      <td>2450</td>\n",
       "      <td>0</td>\n",
       "      <td>0</td>\n",
       "      <td>1</td>\n",
       "      <td>0</td>\n",
       "    </tr>\n",
       "    <tr>\n",
       "      <th>1</th>\n",
       "      <td>Exter</td>\n",
       "      <td>3815</td>\n",
       "      <td>1710</td>\n",
       "      <td>1631</td>\n",
       "      <td>2450</td>\n",
       "      <td>1</td>\n",
       "      <td>0</td>\n",
       "      <td>0</td>\n",
       "      <td>0</td>\n",
       "    </tr>\n",
       "    <tr>\n",
       "      <th>2</th>\n",
       "      <td>I20</td>\n",
       "      <td>3995</td>\n",
       "      <td>1775</td>\n",
       "      <td>1505</td>\n",
       "      <td>2580</td>\n",
       "      <td>0</td>\n",
       "      <td>0</td>\n",
       "      <td>0</td>\n",
       "      <td>1</td>\n",
       "    </tr>\n",
       "    <tr>\n",
       "      <th>3</th>\n",
       "      <td>Kona</td>\n",
       "      <td>4180</td>\n",
       "      <td>1800</td>\n",
       "      <td>1570</td>\n",
       "      <td>2600</td>\n",
       "      <td>1</td>\n",
       "      <td>0</td>\n",
       "      <td>0</td>\n",
       "      <td>0</td>\n",
       "    </tr>\n",
       "    <tr>\n",
       "      <th>4</th>\n",
       "      <td>Venue</td>\n",
       "      <td>3995</td>\n",
       "      <td>1770</td>\n",
       "      <td>1617</td>\n",
       "      <td>2500</td>\n",
       "      <td>1</td>\n",
       "      <td>0</td>\n",
       "      <td>0</td>\n",
       "      <td>0</td>\n",
       "    </tr>\n",
       "    <tr>\n",
       "      <th>5</th>\n",
       "      <td>Venuenline</td>\n",
       "      <td>3995</td>\n",
       "      <td>1770</td>\n",
       "      <td>1617</td>\n",
       "      <td>2500</td>\n",
       "      <td>1</td>\n",
       "      <td>0</td>\n",
       "      <td>0</td>\n",
       "      <td>0</td>\n",
       "    </tr>\n",
       "    <tr>\n",
       "      <th>6</th>\n",
       "      <td>I20nline</td>\n",
       "      <td>3995</td>\n",
       "      <td>1775</td>\n",
       "      <td>1505</td>\n",
       "      <td>2580</td>\n",
       "      <td>0</td>\n",
       "      <td>0</td>\n",
       "      <td>0</td>\n",
       "      <td>1</td>\n",
       "    </tr>\n",
       "    <tr>\n",
       "      <th>7</th>\n",
       "      <td>Tucson</td>\n",
       "      <td>4630</td>\n",
       "      <td>1865</td>\n",
       "      <td>1665</td>\n",
       "      <td>2755</td>\n",
       "      <td>1</td>\n",
       "      <td>0</td>\n",
       "      <td>0</td>\n",
       "      <td>0</td>\n",
       "    </tr>\n",
       "    <tr>\n",
       "      <th>8</th>\n",
       "      <td>Swift</td>\n",
       "      <td>3840</td>\n",
       "      <td>1735</td>\n",
       "      <td>1530</td>\n",
       "      <td>2450</td>\n",
       "      <td>0</td>\n",
       "      <td>0</td>\n",
       "      <td>0</td>\n",
       "      <td>1</td>\n",
       "    </tr>\n",
       "    <tr>\n",
       "      <th>9</th>\n",
       "      <td>Ertiga</td>\n",
       "      <td>4296</td>\n",
       "      <td>1695</td>\n",
       "      <td>1685</td>\n",
       "      <td>2740</td>\n",
       "      <td>0</td>\n",
       "      <td>1</td>\n",
       "      <td>0</td>\n",
       "      <td>0</td>\n",
       "    </tr>\n",
       "    <tr>\n",
       "      <th>10</th>\n",
       "      <td>Brezza</td>\n",
       "      <td>3995</td>\n",
       "      <td>1790</td>\n",
       "      <td>1640</td>\n",
       "      <td>2500</td>\n",
       "      <td>1</td>\n",
       "      <td>0</td>\n",
       "      <td>0</td>\n",
       "      <td>0</td>\n",
       "    </tr>\n",
       "    <tr>\n",
       "      <th>11</th>\n",
       "      <td>Dzire</td>\n",
       "      <td>3995</td>\n",
       "      <td>1735</td>\n",
       "      <td>1515</td>\n",
       "      <td>2450</td>\n",
       "      <td>0</td>\n",
       "      <td>0</td>\n",
       "      <td>1</td>\n",
       "      <td>0</td>\n",
       "    </tr>\n",
       "    <tr>\n",
       "      <th>12</th>\n",
       "      <td>Celeriox</td>\n",
       "      <td>3715</td>\n",
       "      <td>1635</td>\n",
       "      <td>1565</td>\n",
       "      <td>2425</td>\n",
       "      <td>0</td>\n",
       "      <td>0</td>\n",
       "      <td>0</td>\n",
       "      <td>1</td>\n",
       "    </tr>\n",
       "    <tr>\n",
       "      <th>13</th>\n",
       "      <td>Scross</td>\n",
       "      <td>4300</td>\n",
       "      <td>1785</td>\n",
       "      <td>1595</td>\n",
       "      <td>2600</td>\n",
       "      <td>1</td>\n",
       "      <td>0</td>\n",
       "      <td>0</td>\n",
       "      <td>0</td>\n",
       "    </tr>\n",
       "    <tr>\n",
       "      <th>14</th>\n",
       "      <td>Ciaz</td>\n",
       "      <td>4490</td>\n",
       "      <td>1730</td>\n",
       "      <td>1485</td>\n",
       "      <td>2650</td>\n",
       "      <td>0</td>\n",
       "      <td>0</td>\n",
       "      <td>1</td>\n",
       "      <td>0</td>\n",
       "    </tr>\n",
       "    <tr>\n",
       "      <th>15</th>\n",
       "      <td>Balenors</td>\n",
       "      <td>3995</td>\n",
       "      <td>1745</td>\n",
       "      <td>1510</td>\n",
       "      <td>2520</td>\n",
       "      <td>1</td>\n",
       "      <td>0</td>\n",
       "      <td>0</td>\n",
       "      <td>0</td>\n",
       "    </tr>\n",
       "    <tr>\n",
       "      <th>16</th>\n",
       "      <td>Ignis</td>\n",
       "      <td>3700</td>\n",
       "      <td>1690</td>\n",
       "      <td>1595</td>\n",
       "      <td>2435</td>\n",
       "      <td>0</td>\n",
       "      <td>0</td>\n",
       "      <td>0</td>\n",
       "      <td>1</td>\n",
       "    </tr>\n",
       "    <tr>\n",
       "      <th>17</th>\n",
       "      <td>Magnite</td>\n",
       "      <td>3994</td>\n",
       "      <td>1758</td>\n",
       "      <td>1572</td>\n",
       "      <td>2500</td>\n",
       "      <td>1</td>\n",
       "      <td>0</td>\n",
       "      <td>0</td>\n",
       "      <td>0</td>\n",
       "    </tr>\n",
       "    <tr>\n",
       "      <th>18</th>\n",
       "      <td>Kiger</td>\n",
       "      <td>3991</td>\n",
       "      <td>1750</td>\n",
       "      <td>1605</td>\n",
       "      <td>2500</td>\n",
       "      <td>1</td>\n",
       "      <td>0</td>\n",
       "      <td>0</td>\n",
       "      <td>0</td>\n",
       "    </tr>\n",
       "    <tr>\n",
       "      <th>19</th>\n",
       "      <td>Triber</td>\n",
       "      <td>3990</td>\n",
       "      <td>1739</td>\n",
       "      <td>1643</td>\n",
       "      <td>2636</td>\n",
       "      <td>0</td>\n",
       "      <td>1</td>\n",
       "      <td>0</td>\n",
       "      <td>0</td>\n",
       "    </tr>\n",
       "    <tr>\n",
       "      <th>20</th>\n",
       "      <td>Kwid</td>\n",
       "      <td>3731</td>\n",
       "      <td>1579</td>\n",
       "      <td>1474</td>\n",
       "      <td>2422</td>\n",
       "      <td>0</td>\n",
       "      <td>0</td>\n",
       "      <td>0</td>\n",
       "      <td>1</td>\n",
       "    </tr>\n",
       "    <tr>\n",
       "      <th>21</th>\n",
       "      <td>Elevate</td>\n",
       "      <td>4312</td>\n",
       "      <td>1790</td>\n",
       "      <td>1650</td>\n",
       "      <td>2650</td>\n",
       "      <td>1</td>\n",
       "      <td>0</td>\n",
       "      <td>0</td>\n",
       "      <td>0</td>\n",
       "    </tr>\n",
       "    <tr>\n",
       "      <th>22</th>\n",
       "      <td>Amaze</td>\n",
       "      <td>3995</td>\n",
       "      <td>1695</td>\n",
       "      <td>1500</td>\n",
       "      <td>2470</td>\n",
       "      <td>0</td>\n",
       "      <td>0</td>\n",
       "      <td>1</td>\n",
       "      <td>0</td>\n",
       "    </tr>\n",
       "    <tr>\n",
       "      <th>23</th>\n",
       "      <td>City</td>\n",
       "      <td>4578</td>\n",
       "      <td>1748</td>\n",
       "      <td>1489</td>\n",
       "      <td>2600</td>\n",
       "      <td>0</td>\n",
       "      <td>0</td>\n",
       "      <td>1</td>\n",
       "      <td>0</td>\n",
       "    </tr>\n",
       "    <tr>\n",
       "      <th>24</th>\n",
       "      <td>Invicto</td>\n",
       "      <td>4755</td>\n",
       "      <td>1847</td>\n",
       "      <td>1793</td>\n",
       "      <td>2850</td>\n",
       "      <td>0</td>\n",
       "      <td>1</td>\n",
       "      <td>0</td>\n",
       "      <td>0</td>\n",
       "    </tr>\n",
       "  </tbody>\n",
       "</table>\n",
       "</div>"
      ],
      "text/plain": [
       "      Car name  Length  Width  Height  Wheelbase  SUV  MUV  Sedan  Hatchback\n",
       "0         Aura    3995   1680    1520       2450    0    0      1          0\n",
       "1        Exter    3815   1710    1631       2450    1    0      0          0\n",
       "2          I20    3995   1775    1505       2580    0    0      0          1\n",
       "3         Kona    4180   1800    1570       2600    1    0      0          0\n",
       "4        Venue    3995   1770    1617       2500    1    0      0          0\n",
       "5   Venuenline    3995   1770    1617       2500    1    0      0          0\n",
       "6     I20nline    3995   1775    1505       2580    0    0      0          1\n",
       "7       Tucson    4630   1865    1665       2755    1    0      0          0\n",
       "8        Swift    3840   1735    1530       2450    0    0      0          1\n",
       "9       Ertiga    4296   1695    1685       2740    0    1      0          0\n",
       "10      Brezza    3995   1790    1640       2500    1    0      0          0\n",
       "11       Dzire    3995   1735    1515       2450    0    0      1          0\n",
       "12    Celeriox    3715   1635    1565       2425    0    0      0          1\n",
       "13      Scross    4300   1785    1595       2600    1    0      0          0\n",
       "14        Ciaz    4490   1730    1485       2650    0    0      1          0\n",
       "15    Balenors    3995   1745    1510       2520    1    0      0          0\n",
       "16       Ignis    3700   1690    1595       2435    0    0      0          1\n",
       "17     Magnite    3994   1758    1572       2500    1    0      0          0\n",
       "18       Kiger    3991   1750    1605       2500    1    0      0          0\n",
       "19      Triber    3990   1739    1643       2636    0    1      0          0\n",
       "20        Kwid    3731   1579    1474       2422    0    0      0          1\n",
       "21     Elevate    4312   1790    1650       2650    1    0      0          0\n",
       "22       Amaze    3995   1695    1500       2470    0    0      1          0\n",
       "23        City    4578   1748    1489       2600    0    0      1          0\n",
       "24     Invicto    4755   1847    1793       2850    0    1      0          0"
      ]
     },
     "execution_count": 2,
     "metadata": {},
     "output_type": "execute_result"
    }
   ],
   "source": [
    "data = pd.read_csv(\"/home/juhil/Workspace/data/train.csv\")\n",
    "data"
   ]
  },
  {
   "cell_type": "code",
   "execution_count": 3,
   "id": "4da8cf03",
   "metadata": {},
   "outputs": [
    {
     "name": "stdout",
     "output_type": "stream",
     "text": [
      "Relation of the car measurements with them being SUV(1 = tes, 0 = no)\n"
     ]
    },
    {
     "data": {
      "text/plain": [
       "<matplotlib.collections.PathCollection at 0x7fe7d1cee730>"
      ]
     },
     "execution_count": 3,
     "metadata": {},
     "output_type": "execute_result"
    },
    {
     "data": {
      "image/png": "[encoded data removed]",
      "text/plain": [
       "<Figure size 432x288 with 4 Axes>"
      ]
     },
     "metadata": {
      "needs_background": "light"
     },
     "output_type": "display_data"
    }
   ],
   "source": [
    "print(\"Relation of the car measurements with them being SUV(1 = tes, 0 = no)\")\n",
    "plt.subplot(2, 2, 1)\n",
    "plt.scatter(data['Length'], data['SUV'])\n",
    "plt.subplot(2, 2, 2)\n",
    "plt.scatter(data['Width'], data['SUV'])\n",
    "plt.subplot(2, 2, 3)\n",
    "plt.scatter(data['Height'], data['SUV'])\n",
    "plt.subplot(2, 2, 4)\n",
    "plt.scatter(data['Wheelbase'], data['SUV'])"
   ]
  },
  {
   "cell_type": "code",
   "execution_count": 4,
   "id": "a564ba56",
   "metadata": {},
   "outputs": [
    {
     "name": "stdout",
     "output_type": "stream",
     "text": [
      "Relation of the car measurements with them being MUV(1 = tes, 0 = no)\n"
     ]
    },
    {
     "data": {
      "text/plain": [
       "<matplotlib.collections.PathCollection at 0x7fe7cf8af700>"
      ]
     },
     "execution_count": 4,
     "metadata": {},
     "output_type": "execute_result"
    },
    {
     "data": {
      "image/png": "[encoded data removed]",
      "text/plain": [
       "<Figure size 432x288 with 4 Axes>"
      ]
     },
     "metadata": {
      "needs_background": "light"
     },
     "output_type": "display_data"
    }
   ],
   "source": [
    "print(\"Relation of the car measurements with them being MUV(1 = tes, 0 = no)\")\n",
    "plt.subplot(2, 2, 1)\n",
    "plt.scatter(data['Length'], data['MUV'])\n",
    "plt.subplot(2, 2, 2)\n",
    "plt.scatter(data['Width'], data['MUV'])\n",
    "plt.subplot(2, 2, 3)\n",
    "plt.scatter(data['Height'], data['MUV'])\n",
    "plt.subplot(2, 2, 4)\n",
    "plt.scatter(data['Wheelbase'], data['MUV'])"
   ]
  },
  {
   "cell_type": "code",
   "execution_count": 5,
   "id": "a78b687d",
   "metadata": {},
   "outputs": [
    {
     "name": "stdout",
     "output_type": "stream",
     "text": [
      "Relation of the car measurements with them being Sedan(1 = tes, 0 = no)\n"
     ]
    },
    {
     "data": {
      "text/plain": [
       "<matplotlib.collections.PathCollection at 0x7fe7cf7207c0>"
      ]
     },
     "execution_count": 5,
     "metadata": {},
     "output_type": "execute_result"
    },
    {
     "data": {
      "image/png": "[encoded data removed]",
      "text/plain": [
       "<Figure size 432x288 with 4 Axes>"
      ]
     },
     "metadata": {
      "needs_background": "light"
     },
     "output_type": "display_data"
    }
   ],
   "source": [
    "print(\"Relation of the car measurements with them being Sedan(1 = tes, 0 = no)\")\n",
    "plt.subplot(2, 2, 1)\n",
    "plt.scatter(data['Length'], data['Sedan'])\n",
    "plt.subplot(2, 2, 2)\n",
    "plt.scatter(data['Width'], data['Sedan'])\n",
    "plt.subplot(2, 2, 3)\n",
    "plt.scatter(data['Height'], data['Sedan'])\n",
    "plt.subplot(2, 2, 4)\n",
    "plt.scatter(data['Wheelbase'], data['Sedan'])"
   ]
  },
  {
   "cell_type": "code",
   "execution_count": 6,
   "id": "fde52108",
   "metadata": {
    "scrolled": true
   },
   "outputs": [
    {
     "name": "stdout",
     "output_type": "stream",
     "text": [
      "Relation of the car measurements with them being Hatchback(1 = tes, 0 = no)\n"
     ]
    },
    {
     "data": {
      "text/plain": [
       "<matplotlib.collections.PathCollection at 0x7fe7cf59dd00>"
      ]
     },
     "execution_count": 6,
     "metadata": {},
     "output_type": "execute_result"
    },
    {
     "data": {
      "image/png": "[encoded data removed]",
      "text/plain": [
       "<Figure size 432x288 with 4 Axes>"
      ]
     },
     "metadata": {
      "needs_background": "light"
     },
     "output_type": "display_data"
    }
   ],
   "source": [
    "print(\"Relation of the car measurements with them being Hatchback(1 = tes, 0 = no)\")\n",
    "plt.subplot(2, 2, 1)\n",
    "plt.scatter(data['Length'], data['Hatchback'])\n",
    "plt.subplot(2, 2, 2)\n",
    "plt.scatter(data['Width'], data['Hatchback'])\n",
    "plt.subplot(2, 2, 3)\n",
    "plt.scatter(data['Height'], data['Hatchback'])\n",
    "plt.subplot(2, 2, 4)\n",
    "plt.scatter(data['Wheelbase'], data['Hatchback'])"
   ]
  }
 ],
 "metadata": {
  "kernelspec": {
   "display_name": "Python 3 (ipykernel)",
   "language": "python",
   "name": "python3"
  },
  "language_info": {
   "codemirror_mode": {
    "name": "ipython",
    "version": 3
   },
   "file_extension": ".py",
   "mimetype": "text/x-python",
   "name": "python",
   "nbconvert_exporter": "python",
   "pygments_lexer": "ipython3",
   "version": "3.8.10"
  }
 },
 "nbformat": 4,
 "nbformat_minor": 5
}
